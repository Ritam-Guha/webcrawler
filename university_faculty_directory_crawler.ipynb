{
 "cells": [
  {
   "cell_type": "markdown",
   "metadata": {},
   "source": [
    "# Code to WebScrap information from MSU ComArtSci website"
   ],
   "id": "f6ce698103cf23d4"
  },
  {
   "cell_type": "markdown",
   "metadata": {},
   "source": [
    "## Import necessary python libraries"
   ],
   "id": "20cf28008b1f6b23"
  },
  {
   "cell_type": "code",
   "execution_count": 1,
   "metadata": {
    "collapsed": false,
    "ExecuteTime": {
     "end_time": "2023-11-29T19:56:47.684406Z",
     "start_time": "2023-11-29T19:56:47.546881Z"
    }
   },
   "outputs": [],
   "source": [
    "import requests\n",
    "from bs4 import BeautifulSoup"
   ],
   "id": "c416367ef6076ca9"
  },
  {
   "cell_type": "markdown",
   "metadata": {},
   "source": [
    "### Define the URL and get the list of people in the directory"
   ],
   "id": "73c903d3a4a20992"
  },
  {
   "cell_type": "code",
   "execution_count": 6,
   "metadata": {
    "collapsed": false,
    "ExecuteTime": {
     "end_time": "2023-11-29T20:01:50.952574Z",
     "start_time": "2023-11-29T20:01:50.673636Z"
    }
   },
   "outputs": [
    {
     "name": "stdout",
     "output_type": "stream",
     "text": [
      "['Teresa Mastin', 'Iasmim Admiden', 'Suhwoo Ahn', 'Fashina Aladé', 'Saleem E. Alhabash', 'Amanda Allard', 'Jeana-Dee Allen', 'Tracy Anderson', 'Marialina Côgo Antolini', 'Sofia Aparicio', 'Jason Archer', 'Young Anna Argyris', 'Megan Arney', 'Alexander Atwell', 'Elisavet Averkiadi', 'Russell Banks', 'Marge Barkman', 'Ava Francesca Battocchio', 'Johannes M. Bauer', 'Sevgi Baykaldi', 'Julie Beaty', 'Ken Beer', 'Eric Benderoff', 'Connie Benedict', 'Alexandra Benitez', 'Chad Bennett', 'Gary Bente', 'Daniel E. Bergan', 'John C. Besley', 'Subhalakshmi Bezbaruah', 'Christopher Bilski', 'Jia Bin', 'Jeremy Gibson Bond', 'Nicole Bond', 'Susan Bonner', 'Howard Bossen', 'Jess Brandt', 'Andrew Bredland', 'Mary Bresnahan', 'Danielle K. Brown', 'Heather Brown', 'Janice Bukovac-Phelps', 'Kristin Butler', 'Lisabeth Bylina', 'Celeste Campos-Castillo', 'Huajie Cao', 'Dustin Carnahan', 'Sue Carter']\n"
     ]
    }
   ],
   "source": [
    "URL = \"https://comartsci.msu.edu/directory\"\n",
    "\n",
    "def get_list_faculty_members(url):\n",
    "    HEADERS = ({'User-Agent':\n",
    "                    'Mozilla/5.0 (X11; Linux x86_64) AppleWebKit/537.36 (KHTML, like Gecko) Chrome/44.0.2403.157 Safari/537.36',\n",
    "                'Accept-Language': 'en-US, en;q=0.5'})\n",
    "\n",
    "    response = requests.get(f\"{url}\", data=HEADERS)\n",
    "    if response.status_code == 200:\n",
    "        soup = BeautifulSoup(response.text, 'html.parser')\n",
    "        list_names = soup.find_all(\"h4\", {\"class\": \"explore-entity__title\"})\n",
    "\n",
    "    list_names = [name.text for name in list_names]\n",
    "    return list_names\n",
    "    \n",
    "list_faculty = get_list_faculty_members(URL)\n",
    "print(list_faculty)"
   ],
   "id": "fc8af38bf9bf861e"
  },
  {
   "cell_type": "markdown",
   "source": [
    "### Crawl through each faculty member and get the information"
   ],
   "metadata": {
    "collapsed": false
   },
   "id": "d57e1793561eec7a"
  },
  {
   "cell_type": "code",
   "execution_count": 22,
   "metadata": {
    "ExecuteTime": {
     "end_time": "2023-11-29T20:13:46.616053Z",
     "start_time": "2023-11-29T20:13:32.097598Z"
    }
   },
   "outputs": [
    {
     "name": "stdout",
     "output_type": "stream",
     "text": [
      "Failed to retrieve search results. Status code: 404\n",
      "Failed to retrieve search results. Status code: 404\n",
      "Failed to retrieve search results. Status code: 404\n",
      "Failed to retrieve search results. Status code: 404\n",
      "Failed to retrieve search results. Status code: 404\n"
     ]
    }
   ],
   "source": [
    "def get_faculty_directory_results(url, faculty_name):\n",
    "    HEADERS = ({'User-Agent':\n",
    "                    'Mozilla/5.0 (X11; Linux x86_64) AppleWebKit/537.36 (KHTML, like Gecko) Chrome/44.0.2403.157 Safari/537.36',\n",
    "                'Accept-Language': 'en-US, en;q=0.5'})\n",
    "\n",
    "    response = requests.get(f\"{url}/{faculty_name}\", data=HEADERS)\n",
    "\n",
    "    if response.status_code == 200:\n",
    "        soup = BeautifulSoup(response.text, 'html.parser')\n",
    "        return soup\n",
    "    else:\n",
    "        print(f\"Failed to retrieve search results. Status code: {response.status_code}\")\n",
    "        return None\n",
    "\n",
    "\n",
    "def extract_name(soup):\n",
    "    name = soup.find(\"h1\")\n",
    "    if name:\n",
    "        name = name.text\n",
    "    return name\n",
    "\n",
    "def extract_pos(soup):\n",
    "    pos = soup.find(\"h4\")\n",
    "    if pos:\n",
    "        pos = pos.text\n",
    "    return pos\n",
    "\n",
    "def extract_dept(soup):\n",
    "    ul = soup.find(\"ul\", {\"class\": \"single-person__department\"})\n",
    "    list_depts = []\n",
    "    if ul:\n",
    "        for li in ul.findAll('li'):\n",
    "            list_depts.append(li.text)\n",
    "\n",
    "    return list_depts\n",
    "\n",
    "def extract_email(soup):\n",
    "    links = soup.find_all(\"a\", href=True)\n",
    "    email = None\n",
    "\n",
    "    for link in links:\n",
    "        if \"mailto\" in link.get(\"href\"):\n",
    "            email = link.get(\"href\")\n",
    "            break\n",
    "            \n",
    "    if email:\n",
    "        email = email.replace(\"mailto:\", \"\")\n",
    "    return email\n",
    "\n",
    "def extract_bio(soup):\n",
    "    bio = soup.find(\"div\", {\"class\": \"single-person__content\"})\n",
    "    if bio:\n",
    "        bio = bio.text\n",
    "    return bio\n",
    "\n",
    "def extract_info(soup):\n",
    "    info = {}\n",
    "    name = extract_name(soup)\n",
    "    pos = extract_pos(soup)\n",
    "    list_depts = extract_dept(soup)\n",
    "    email = extract_email(soup)\n",
    "    bio = extract_bio(soup)\n",
    "\n",
    "    info[\"name\"] = name\n",
    "    info[\"pos\"] = pos\n",
    "    info[\"dept\"] = list_depts\n",
    "    info[\"email\"] = email\n",
    "    info[\"bio\"] = bio\n",
    "    return info\n",
    "\n",
    "URL = \"https://comartsci.msu.edu/our-people\"\n",
    "list_faculty_dict = []\n",
    "for faculty in list_faculty:\n",
    "    faculty_id = faculty.lower().replace(\" \", \"-\")\n",
    "    soup = get_faculty_directory_results(URL, faculty_name=faculty_id)\n",
    "    if soup:\n",
    "        faculty_dict = extract_info(soup)\n",
    "        list_faculty_dict.append(faculty_dict)"
   ],
   "id": "5563a5f29699dd61"
  },
  {
   "cell_type": "markdown",
   "source": [
    "### Create an excel from the information"
   ],
   "metadata": {
    "collapsed": false
   },
   "id": "609c500184272fcc"
  },
  {
   "cell_type": "code",
   "execution_count": 29,
   "outputs": [
    {
     "name": "stdout",
     "output_type": "stream",
     "text": [
      "                    name                    pos  \\\n",
      "0   Teresa  Mastin Ph.D.           Interim Dean   \n",
      "1       Iasmim  Admiden           Ph.D. Student   \n",
      "2           Suhwoo  Ahn         Ph.D. Candidate   \n",
      "3   Fashina  Aladé,  PhD    Assistant Professor   \n",
      "4        Amanda  Allard   Ph.D. Candidate (ABD)   \n",
      "\n",
      "                               dept             email  \\\n",
      "0  [Advertising + Public Relations]  mastinte@msu.edu   \n",
      "1                      [Journalism]  amidenia@msu.edu   \n",
      "2                   [Communication]  ahnsuhwo@msu.edu   \n",
      "3  [Advertising + Public Relations]  aladefas@msu.edu   \n",
      "4                   [Communication]  allardam@msu.edu   \n",
      "\n",
      "                                                 bio  \n",
      "0  Teresa Mastin, PhD (1998), Mass Media—Michigan...  \n",
      "1                                               None  \n",
      "2  Suhwoo Ahn is a fifth-year doctoral student in...  \n",
      "3  Fashina (Shina) Aladé is an Assistant Professo...  \n",
      "4  Amanda Allard is projected to graduate in the ...  \n"
     ]
    }
   ],
   "source": [
    "import pandas as pd\n",
    "\n",
    "list_info = [\"name\", \"pos\", \"dept\", \"email\", \"bio\"]\n",
    "df = pd.DataFrame()\n",
    "\n",
    "for type_info in list_info:\n",
    "    list_type_info = []\n",
    "    for faculty_info in list_faculty_dict:\n",
    "        list_type_info.append(faculty_info[type_info])\n",
    "    \n",
    "    df[type_info] = list_type_info\n",
    "\n",
    "print(df.head(5))\n",
    "df.to_csv(\"webscraped_data.csv\", index=False)"
   ],
   "metadata": {
    "collapsed": false,
    "ExecuteTime": {
     "end_time": "2023-11-29T20:18:31.955244Z",
     "start_time": "2023-11-29T20:18:31.940069Z"
    }
   },
   "id": "1e3c5286216176cd"
  },
  {
   "cell_type": "code",
   "execution_count": 28,
   "outputs": [],
   "source": [],
   "metadata": {
    "collapsed": false,
    "ExecuteTime": {
     "end_time": "2023-11-29T20:17:57.732977Z",
     "start_time": "2023-11-29T20:17:57.715483Z"
    }
   },
   "id": "c2f667d31a483db4"
  },
  {
   "cell_type": "code",
   "execution_count": null,
   "outputs": [],
   "source": [],
   "metadata": {
    "collapsed": false
   },
   "id": "5463ee4ace74ab2b"
  }
 ],
 "metadata": {
  "kernelspec": {
   "display_name": "Python 3",
   "language": "python",
   "name": "python3"
  },
  "language_info": {
   "codemirror_mode": {
    "name": "ipython",
    "version": 3
   },
   "file_extension": ".py",
   "mimetype": "text/x-python",
   "name": "python",
   "nbconvert_exporter": "python",
   "pygments_lexer": "ipython3",
   "version": "3.8.16"
  }
 },
 "nbformat": 4,
 "nbformat_minor": 5
}
